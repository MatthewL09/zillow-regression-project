{
 "cells": [
  {
   "cell_type": "code",
   "execution_count": 1,
   "id": "13502431-d401-4b86-b99d-4fdbe5f42d0b",
   "metadata": {},
   "outputs": [],
   "source": [
    "import acquire\n",
    "import prepare\n",
    "import os\n",
    "import pandas as pd\n",
    "import numpy as np\n",
    "import matplotlib.pyplot as plt\n",
    "import seaborn as sns\n",
    "\n",
    "from sklearn.model_selection import train_test_split\n",
    "from scipy import stats\n",
    "from scipy.stats import pearsonr, spearmanr\n",
    "from math import sqrt\n",
    "\n",
    "from sklearn.metrics import recall_score, precision_score, f1_score, accuracy_score\n",
    "from sklearn.metrics import mean_squared_error, r2_score\n",
    "from sklearn.feature_selection import f_regression, RFE\n",
    "from sklearn.preprocessing import MinMaxScaler, StandardScaler, RobustScaler, QuantileTransformer, PolynomialFeatures\n",
    "from sklearn.linear_model import LinearRegression, LassoLars, TweedieRegressor"
   ]
  },
  {
   "cell_type": "markdown",
   "id": "bd63d829-44b9-4465-b669-6c7c132ea995",
   "metadata": {
    "tags": []
   },
   "source": [
    "# Acquiring and Preparing zillow data\n",
    "    "
   ]
  },
  {
   "cell_type": "code",
   "execution_count": 2,
   "id": "2f6dadc9-39aa-42c7-bb4c-29aacca58b96",
   "metadata": {},
   "outputs": [
    {
     "name": "stdout",
     "output_type": "stream",
     "text": [
      "Using cached csv\n"
     ]
    }
   ],
   "source": [
    "df = acquire.get_zillow_data()"
   ]
  },
  {
   "cell_type": "code",
   "execution_count": 3,
   "id": "497deb49-2175-4ce1-83a0-4f93e42db0f3",
   "metadata": {},
   "outputs": [
    {
     "data": {
      "text/plain": [
       "(52441, 7)"
      ]
     },
     "execution_count": 3,
     "metadata": {},
     "output_type": "execute_result"
    }
   ],
   "source": [
    "#checking shape to make sure I have the appropriate amount \n",
    "df.shape"
   ]
  },
  {
   "cell_type": "code",
   "execution_count": 4,
   "id": "b8e71537-b1f8-481a-a9cf-973f36e87d1d",
   "metadata": {},
   "outputs": [
    {
     "data": {
      "text/plain": [
       "bedroomcnt                        0\n",
       "bathroomcnt                       0\n",
       "calculatedfinishedsquarefeet     82\n",
       "lotsizesquarefeet               369\n",
       "taxvaluedollarcnt                 1\n",
       "yearbuilt                       116\n",
       "fips                              0\n",
       "dtype: int64"
      ]
     },
     "execution_count": 4,
     "metadata": {},
     "output_type": "execute_result"
    }
   ],
   "source": [
    "# checking for null amounts\n",
    "df.isnull().sum()"
   ]
  },
  {
   "cell_type": "code",
   "execution_count": 5,
   "id": "2f275ede-77bc-41b3-84d9-7f29d59389b4",
   "metadata": {},
   "outputs": [
    {
     "data": {
      "text/plain": [
       "bedroomcnt                      float64\n",
       "bathroomcnt                     float64\n",
       "calculatedfinishedsquarefeet    float64\n",
       "lotsizesquarefeet               float64\n",
       "taxvaluedollarcnt               float64\n",
       "yearbuilt                       float64\n",
       "fips                            float64\n",
       "dtype: object"
      ]
     },
     "execution_count": 5,
     "metadata": {},
     "output_type": "execute_result"
    }
   ],
   "source": [
    "# Looking at data types\n",
    "\n",
    "df.dtypes"
   ]
  },
  {
   "cell_type": "code",
   "execution_count": 6,
   "id": "1eb3a58a-626b-48d1-815c-8bc39d3b861a",
   "metadata": {},
   "outputs": [
    {
     "data": {
      "text/html": [
       "<div>\n",
       "<style scoped>\n",
       "    .dataframe tbody tr th:only-of-type {\n",
       "        vertical-align: middle;\n",
       "    }\n",
       "\n",
       "    .dataframe tbody tr th {\n",
       "        vertical-align: top;\n",
       "    }\n",
       "\n",
       "    .dataframe thead th {\n",
       "        text-align: right;\n",
       "    }\n",
       "</style>\n",
       "<table border=\"1\" class=\"dataframe\">\n",
       "  <thead>\n",
       "    <tr style=\"text-align: right;\">\n",
       "      <th></th>\n",
       "      <th>count</th>\n",
       "      <th>mean</th>\n",
       "      <th>std</th>\n",
       "      <th>min</th>\n",
       "      <th>25%</th>\n",
       "      <th>50%</th>\n",
       "      <th>75%</th>\n",
       "      <th>max</th>\n",
       "    </tr>\n",
       "  </thead>\n",
       "  <tbody>\n",
       "    <tr>\n",
       "      <th>bedroomcnt</th>\n",
       "      <td>52441.0</td>\n",
       "      <td>3.300681</td>\n",
       "      <td>0.949094</td>\n",
       "      <td>0.0</td>\n",
       "      <td>3.0</td>\n",
       "      <td>3.0</td>\n",
       "      <td>4.00</td>\n",
       "      <td>14.0</td>\n",
       "    </tr>\n",
       "    <tr>\n",
       "      <th>bathroomcnt</th>\n",
       "      <td>52441.0</td>\n",
       "      <td>2.299403</td>\n",
       "      <td>1.022772</td>\n",
       "      <td>0.0</td>\n",
       "      <td>2.0</td>\n",
       "      <td>2.0</td>\n",
       "      <td>3.00</td>\n",
       "      <td>18.0</td>\n",
       "    </tr>\n",
       "    <tr>\n",
       "      <th>calculatedfinishedsquarefeet</th>\n",
       "      <td>52359.0</td>\n",
       "      <td>1922.890754</td>\n",
       "      <td>1004.365838</td>\n",
       "      <td>128.0</td>\n",
       "      <td>1268.0</td>\n",
       "      <td>1659.0</td>\n",
       "      <td>2306.00</td>\n",
       "      <td>21929.0</td>\n",
       "    </tr>\n",
       "    <tr>\n",
       "      <th>lotsizesquarefeet</th>\n",
       "      <td>52072.0</td>\n",
       "      <td>11339.624078</td>\n",
       "      <td>86747.634061</td>\n",
       "      <td>236.0</td>\n",
       "      <td>5583.0</td>\n",
       "      <td>6840.5</td>\n",
       "      <td>8798.25</td>\n",
       "      <td>6971010.0</td>\n",
       "    </tr>\n",
       "    <tr>\n",
       "      <th>taxvaluedollarcnt</th>\n",
       "      <td>52440.0</td>\n",
       "      <td>529688.163921</td>\n",
       "      <td>751894.553363</td>\n",
       "      <td>1000.0</td>\n",
       "      <td>193747.5</td>\n",
       "      <td>373612.0</td>\n",
       "      <td>619301.25</td>\n",
       "      <td>49061236.0</td>\n",
       "    </tr>\n",
       "    <tr>\n",
       "      <th>yearbuilt</th>\n",
       "      <td>52325.0</td>\n",
       "      <td>1963.393884</td>\n",
       "      <td>23.133571</td>\n",
       "      <td>1878.0</td>\n",
       "      <td>1950.0</td>\n",
       "      <td>1961.0</td>\n",
       "      <td>1979.00</td>\n",
       "      <td>2016.0</td>\n",
       "    </tr>\n",
       "    <tr>\n",
       "      <th>fips</th>\n",
       "      <td>52441.0</td>\n",
       "      <td>6049.132149</td>\n",
       "      <td>21.029067</td>\n",
       "      <td>6037.0</td>\n",
       "      <td>6037.0</td>\n",
       "      <td>6037.0</td>\n",
       "      <td>6059.00</td>\n",
       "      <td>6111.0</td>\n",
       "    </tr>\n",
       "  </tbody>\n",
       "</table>\n",
       "</div>"
      ],
      "text/plain": [
       "                                count           mean            std     min  \\\n",
       "bedroomcnt                    52441.0       3.300681       0.949094     0.0   \n",
       "bathroomcnt                   52441.0       2.299403       1.022772     0.0   \n",
       "calculatedfinishedsquarefeet  52359.0    1922.890754    1004.365838   128.0   \n",
       "lotsizesquarefeet             52072.0   11339.624078   86747.634061   236.0   \n",
       "taxvaluedollarcnt             52440.0  529688.163921  751894.553363  1000.0   \n",
       "yearbuilt                     52325.0    1963.393884      23.133571  1878.0   \n",
       "fips                          52441.0    6049.132149      21.029067  6037.0   \n",
       "\n",
       "                                   25%       50%        75%         max  \n",
       "bedroomcnt                         3.0       3.0       4.00        14.0  \n",
       "bathroomcnt                        2.0       2.0       3.00        18.0  \n",
       "calculatedfinishedsquarefeet    1268.0    1659.0    2306.00     21929.0  \n",
       "lotsizesquarefeet               5583.0    6840.5    8798.25   6971010.0  \n",
       "taxvaluedollarcnt             193747.5  373612.0  619301.25  49061236.0  \n",
       "yearbuilt                       1950.0    1961.0    1979.00      2016.0  \n",
       "fips                            6037.0    6037.0    6059.00      6111.0  "
      ]
     },
     "execution_count": 6,
     "metadata": {},
     "output_type": "execute_result"
    }
   ],
   "source": [
    "#general overview of the data\n",
    "df.describe().T"
   ]
  },
  {
   "cell_type": "markdown",
   "id": "5f4ce9ab-4a16-4012-b84b-836b8afcc9ad",
   "metadata": {},
   "source": [
    "## Takeaway\n",
    "    - 52k rows\n",
    "    - tax values range from 1_000 to 49_061_236\n",
    "    - average tax value is 529_688\n",
    "    - min numbers like 0 and max numbers like 14/18 bedroom/bathroom \n",
    "    - other outliers within columns\n",
    "    - messy columns names\n",
    "    - missing values"
   ]
  },
  {
   "cell_type": "code",
   "execution_count": 7,
   "id": "dd2c7f6a-0d51-4de8-ab0f-d31b1dac672f",
   "metadata": {},
   "outputs": [],
   "source": [
    "# drop all null values from df \n",
    "df = df.dropna()"
   ]
  },
  {
   "cell_type": "code",
   "execution_count": 8,
   "id": "b9251b34-864b-44ea-9ed5-0e7e8045050b",
   "metadata": {},
   "outputs": [],
   "source": [
    "# clean all values and replace any missing\n",
    "\n",
    "df= df.replace(r'^\\s*$', np.nan, regex = True)"
   ]
  },
  {
   "cell_type": "code",
   "execution_count": 9,
   "id": "f094ad91-6053-417a-8647-d54ed81f5027",
   "metadata": {},
   "outputs": [
    {
     "data": {
      "text/plain": [
       "(51959, 7)"
      ]
     },
     "execution_count": 9,
     "metadata": {},
     "output_type": "execute_result"
    }
   ],
   "source": [
    "# check how many rows were lost when dropping null values\n",
    "df.shape"
   ]
  },
  {
   "cell_type": "code",
   "execution_count": 10,
   "id": "26210060-2065-4fa5-a0cd-4e55df9454a2",
   "metadata": {},
   "outputs": [],
   "source": [
    "# user friendly column names\n",
    "\n",
    "df = df.rename( columns = {'bedroomcnt': 'bedroom',\n",
    "                           'bathroomcnt': 'bathroom',\n",
    "                           'calculatedfinishedsquarefeet':'square_ft',\n",
    "                           'lotsizesquarefeet': 'lot_size',\n",
    "                           'taxvaluedollarcnt': 'tax_value',\n",
    "                           'yearbuilt': 'year_built'\n",
    "                          })"
   ]
  },
  {
   "cell_type": "code",
   "execution_count": 11,
   "id": "8c4386ed-eaec-456b-9f49-743a01ad0efa",
   "metadata": {},
   "outputs": [
    {
     "data": {
      "text/plain": [
       "['bedroom',\n",
       " 'bathroom',\n",
       " 'square_ft',\n",
       " 'lot_size',\n",
       " 'tax_value',\n",
       " 'year_built',\n",
       " 'fips']"
      ]
     },
     "execution_count": 11,
     "metadata": {},
     "output_type": "execute_result"
    }
   ],
   "source": [
    "df.columns.tolist()"
   ]
  },
  {
   "cell_type": "code",
   "execution_count": 12,
   "id": "8052b2f2-3bfb-4f35-8f3b-7b64b1236e25",
   "metadata": {},
   "outputs": [
    {
     "data": {
      "image/png": "[encoded data removed]",
      "text/plain": [
       "<Figure size 1728x576 with 6 Axes>"
      ]
     },
     "metadata": {
      "needs_background": "light"
     },
     "output_type": "display_data"
    }
   ],
   "source": [
    "# Visualize Histograms\n",
    "\n",
    "# list of numeric columns for histograms\n",
    "cols = [col for col in df.columns if col not in ['tax_value']]\n",
    "\n",
    "# figsize width to height\n",
    "plt.figure(figsize=(24, 8))\n",
    "\n",
    "# loop to iterate over columns\n",
    "for i, col in enumerate(cols):\n",
    "        \n",
    "        # i starts at 0 but plot numbers should start at 1\n",
    "        plot_number = i + 1\n",
    "        \n",
    "        # create subplot\n",
    "        plt.subplot(1, len(cols), plot_number)\n",
    "        \n",
    "        # create title with the column name\n",
    "        plt.title(col)\n",
    "        \n",
    "        # display a histogram for each of the columns            \n",
    "        sns.histplot(df[col], bins=5)\n",
    "        \n",
    "        # Hide gridlines.\n",
    "        plt.grid(False)\n",
    "         \n",
    "        # turn off scientific notation\n",
    "        plt.ticklabel_format(useOffset=False)\n",
    "    \n",
    "plt.tight_layout()\n",
    "plt.show()"
   ]
  },
  {
   "cell_type": "code",
   "execution_count": 13,
   "id": "23f9f895-2887-4105-bbf5-d0551216fe5c",
   "metadata": {},
   "outputs": [
    {
     "name": "stderr",
     "output_type": "stream",
     "text": [
      "/usr/local/anaconda3/lib/python3.9/site-packages/seaborn/_decorators.py:36: FutureWarning: Pass the following variable as a keyword arg: x. From version 0.12, the only valid positional argument will be `data`, and passing other arguments without an explicit keyword will result in an error or misinterpretation.\n",
      "  warnings.warn(\n",
      "/usr/local/anaconda3/lib/python3.9/site-packages/seaborn/_decorators.py:36: FutureWarning: Pass the following variable as a keyword arg: x. From version 0.12, the only valid positional argument will be `data`, and passing other arguments without an explicit keyword will result in an error or misinterpretation.\n",
      "  warnings.warn(\n",
      "/usr/local/anaconda3/lib/python3.9/site-packages/seaborn/_decorators.py:36: FutureWarning: Pass the following variable as a keyword arg: x. From version 0.12, the only valid positional argument will be `data`, and passing other arguments without an explicit keyword will result in an error or misinterpretation.\n",
      "  warnings.warn(\n",
      "/usr/local/anaconda3/lib/python3.9/site-packages/seaborn/_decorators.py:36: FutureWarning: Pass the following variable as a keyword arg: x. From version 0.12, the only valid positional argument will be `data`, and passing other arguments without an explicit keyword will result in an error or misinterpretation.\n",
      "  warnings.warn(\n",
      "/usr/local/anaconda3/lib/python3.9/site-packages/seaborn/_decorators.py:36: FutureWarning: Pass the following variable as a keyword arg: x. From version 0.12, the only valid positional argument will be `data`, and passing other arguments without an explicit keyword will result in an error or misinterpretation.\n",
      "  warnings.warn(\n",
      "/usr/local/anaconda3/lib/python3.9/site-packages/seaborn/_decorators.py:36: FutureWarning: Pass the following variable as a keyword arg: x. From version 0.12, the only valid positional argument will be `data`, and passing other arguments without an explicit keyword will result in an error or misinterpretation.\n",
      "  warnings.warn(\n"
     ]
    },
    {
     "data": {
      "image/png": "[encoded data removed]",
      "text/plain": [
       "<Figure size 1728x576 with 6 Axes>"
      ]
     },
     "metadata": {
      "needs_background": "light"
     },
     "output_type": "display_data"
    }
   ],
   "source": [
    "# Visualize Boxplots\n",
    "\n",
    "\n",
    "# list of numeric columns\n",
    "cols = [col for col in df.columns if col not in ['tax_value']]\n",
    "\n",
    "# figsize width to height\n",
    "plt.figure(figsize=(24, 8))\n",
    "\n",
    "# loop to iterate over columns\n",
    "for i, col in enumerate(cols):\n",
    "        \n",
    "        # i starts at 0 but plot numbers should start at 1\n",
    "        plot_number = i + 1\n",
    "        \n",
    "        # create subplot\n",
    "        plt.subplot(1, len(cols), plot_number)\n",
    "        \n",
    "        # create title with the column name\n",
    "        plt.title(col)\n",
    "        \n",
    "        # display a boxplot for each of the columns            \n",
    "        sns.boxplot(df[col])\n",
    "        \n",
    "        # Hide gridlines.\n",
    "        plt.grid(False)\n",
    "         \n",
    "      \n",
    "    \n",
    "plt.tight_layout()\n",
    "plt.show()"
   ]
  },
  {
   "cell_type": "markdown",
   "id": "47d11fa2-f94a-4efb-ac6d-53bb9d61999b",
   "metadata": {},
   "source": [
    "## Takeaway\n",
    "    - scaling needed, histogram and boxplot not useful\n",
    "    - data cannot give meaningful visualizations because of outliers\n",
    "    - fips might work better with different dtypes "
   ]
  },
  {
   "cell_type": "code",
   "execution_count": 14,
   "id": "163abf18-3a2c-422c-9075-16f06bcfe7f1",
   "metadata": {},
   "outputs": [
    {
     "data": {
      "text/html": [
       "<div>\n",
       "<style scoped>\n",
       "    .dataframe tbody tr th:only-of-type {\n",
       "        vertical-align: middle;\n",
       "    }\n",
       "\n",
       "    .dataframe tbody tr th {\n",
       "        vertical-align: top;\n",
       "    }\n",
       "\n",
       "    .dataframe thead th {\n",
       "        text-align: right;\n",
       "    }\n",
       "</style>\n",
       "<table border=\"1\" class=\"dataframe\">\n",
       "  <thead>\n",
       "    <tr style=\"text-align: right;\">\n",
       "      <th></th>\n",
       "      <th>bedroom</th>\n",
       "      <th>bathroom</th>\n",
       "      <th>square_ft</th>\n",
       "      <th>lot_size</th>\n",
       "      <th>tax_value</th>\n",
       "      <th>year_built</th>\n",
       "      <th>fips</th>\n",
       "      <th>age</th>\n",
       "    </tr>\n",
       "  </thead>\n",
       "  <tbody>\n",
       "    <tr>\n",
       "      <th>0</th>\n",
       "      <td>4.0</td>\n",
       "      <td>3.5</td>\n",
       "      <td>3100.0</td>\n",
       "      <td>4506.0</td>\n",
       "      <td>1023282.0</td>\n",
       "      <td>1998.0</td>\n",
       "      <td>6059.0</td>\n",
       "      <td>19.0</td>\n",
       "    </tr>\n",
       "    <tr>\n",
       "      <th>1</th>\n",
       "      <td>2.0</td>\n",
       "      <td>1.0</td>\n",
       "      <td>1465.0</td>\n",
       "      <td>12647.0</td>\n",
       "      <td>464000.0</td>\n",
       "      <td>1967.0</td>\n",
       "      <td>6111.0</td>\n",
       "      <td>50.0</td>\n",
       "    </tr>\n",
       "    <tr>\n",
       "      <th>2</th>\n",
       "      <td>3.0</td>\n",
       "      <td>2.0</td>\n",
       "      <td>1243.0</td>\n",
       "      <td>8432.0</td>\n",
       "      <td>564778.0</td>\n",
       "      <td>1962.0</td>\n",
       "      <td>6059.0</td>\n",
       "      <td>55.0</td>\n",
       "    </tr>\n",
       "  </tbody>\n",
       "</table>\n",
       "</div>"
      ],
      "text/plain": [
       "   bedroom  bathroom  square_ft  lot_size  tax_value  year_built    fips   age\n",
       "0      4.0       3.5     3100.0    4506.0  1023282.0      1998.0  6059.0  19.0\n",
       "1      2.0       1.0     1465.0   12647.0   464000.0      1967.0  6111.0  50.0\n",
       "2      3.0       2.0     1243.0    8432.0   564778.0      1962.0  6059.0  55.0"
      ]
     },
     "execution_count": 14,
     "metadata": {},
     "output_type": "execute_result"
    }
   ],
   "source": [
    "# create an age column\n",
    "df['age'] = 2017 - df.year_built\n",
    "df.head(3)"
   ]
  },
  {
   "cell_type": "code",
   "execution_count": 15,
   "id": "0073f0e2-8c0a-49d9-9608-978aa7e183fb",
   "metadata": {},
   "outputs": [],
   "source": [
    "df['state'] = 'california'"
   ]
  },
  {
   "cell_type": "code",
   "execution_count": 16,
   "id": "f4d101e2-867a-4ee8-aef3-4670f8d165e6",
   "metadata": {},
   "outputs": [
    {
     "data": {
      "text/plain": [
       "bedroom       float64\n",
       "bathroom      float64\n",
       "square_ft     float64\n",
       "lot_size      float64\n",
       "tax_value     float64\n",
       "year_built    float64\n",
       "fips          float64\n",
       "age           float64\n",
       "state          object\n",
       "dtype: object"
      ]
     },
     "execution_count": 16,
     "metadata": {},
     "output_type": "execute_result"
    }
   ],
   "source": [
    "df.dtypes"
   ]
  },
  {
   "cell_type": "code",
   "execution_count": 17,
   "id": "5dbea555-4a7a-4f09-913b-04f542cffdd4",
   "metadata": {},
   "outputs": [],
   "source": [
    "# Create list of datatypes I want to change\n",
    "int_col_list = ['bedroom', 'bathroom', 'square_ft', 'lot_size', 'year_built','tax_value', 'age']\n",
    "obj_col_list = ['fips']\n",
    "    \n",
    "# Change data types where it makes sense\n",
    "for col in df:\n",
    "    if col in int_col_list:\n",
    "        df[col] = df[col].astype(int)\n",
    "    if col in obj_col_list:\n",
    "        df[col] = df[col].astype(int).astype(object)"
   ]
  },
  {
   "cell_type": "code",
   "execution_count": 18,
   "id": "581c88ea-fcc1-482c-b0d3-4064e4c65cf0",
   "metadata": {},
   "outputs": [
    {
     "data": {
      "text/plain": [
       "6037    33567\n",
       "6059    14034\n",
       "6111     4358\n",
       "Name: fips, dtype: int64"
      ]
     },
     "execution_count": 18,
     "metadata": {},
     "output_type": "execute_result"
    }
   ],
   "source": [
    "# check the values\n",
    "\n",
    "df.fips.value_counts()"
   ]
  },
  {
   "cell_type": "code",
   "execution_count": 19,
   "id": "6917b36b-ec45-4498-adeb-501d48a6001f",
   "metadata": {},
   "outputs": [],
   "source": [
    "# replacing county values with more descriptive values\n",
    "\n",
    "df.fips = df.fips.replace({6037: 'los_angeles', 6059: 'orange', 6111: 'ventura'})"
   ]
  },
  {
   "cell_type": "code",
   "execution_count": 20,
   "id": "6f43b2ff-057a-40d0-b36d-635f9b3c4acd",
   "metadata": {},
   "outputs": [
    {
     "data": {
      "text/plain": [
       "los_angeles    33567\n",
       "orange         14034\n",
       "ventura         4358\n",
       "Name: fips, dtype: int64"
      ]
     },
     "execution_count": 20,
     "metadata": {},
     "output_type": "execute_result"
    }
   ],
   "source": [
    "df.fips.value_counts()"
   ]
  },
  {
   "cell_type": "code",
   "execution_count": 21,
   "id": "a51e2655-52ff-4cdf-bd61-f23b838cbfe4",
   "metadata": {},
   "outputs": [
    {
     "data": {
      "text/plain": [
       "bedroom        int64\n",
       "bathroom       int64\n",
       "square_ft      int64\n",
       "lot_size       int64\n",
       "tax_value      int64\n",
       "year_built     int64\n",
       "fips          object\n",
       "age            int64\n",
       "state         object\n",
       "dtype: object"
      ]
     },
     "execution_count": 21,
     "metadata": {},
     "output_type": "execute_result"
    }
   ],
   "source": [
    "# recheck the types\n",
    "\n",
    "df.dtypes"
   ]
  },
  {
   "cell_type": "code",
   "execution_count": 22,
   "id": "d66a904f-63f6-41c5-b328-9c4fc434170b",
   "metadata": {},
   "outputs": [
    {
     "data": {
      "text/html": [
       "<div>\n",
       "<style scoped>\n",
       "    .dataframe tbody tr th:only-of-type {\n",
       "        vertical-align: middle;\n",
       "    }\n",
       "\n",
       "    .dataframe tbody tr th {\n",
       "        vertical-align: top;\n",
       "    }\n",
       "\n",
       "    .dataframe thead th {\n",
       "        text-align: right;\n",
       "    }\n",
       "</style>\n",
       "<table border=\"1\" class=\"dataframe\">\n",
       "  <thead>\n",
       "    <tr style=\"text-align: right;\">\n",
       "      <th></th>\n",
       "      <th>bedroom</th>\n",
       "      <th>bathroom</th>\n",
       "      <th>square_ft</th>\n",
       "      <th>lot_size</th>\n",
       "      <th>tax_value</th>\n",
       "      <th>year_built</th>\n",
       "      <th>fips</th>\n",
       "      <th>age</th>\n",
       "      <th>state</th>\n",
       "    </tr>\n",
       "  </thead>\n",
       "  <tbody>\n",
       "    <tr>\n",
       "      <th>0</th>\n",
       "      <td>4</td>\n",
       "      <td>3</td>\n",
       "      <td>3100</td>\n",
       "      <td>4506</td>\n",
       "      <td>1023282</td>\n",
       "      <td>1998</td>\n",
       "      <td>orange</td>\n",
       "      <td>19</td>\n",
       "      <td>california</td>\n",
       "    </tr>\n",
       "    <tr>\n",
       "      <th>1</th>\n",
       "      <td>2</td>\n",
       "      <td>1</td>\n",
       "      <td>1465</td>\n",
       "      <td>12647</td>\n",
       "      <td>464000</td>\n",
       "      <td>1967</td>\n",
       "      <td>ventura</td>\n",
       "      <td>50</td>\n",
       "      <td>california</td>\n",
       "    </tr>\n",
       "    <tr>\n",
       "      <th>2</th>\n",
       "      <td>3</td>\n",
       "      <td>2</td>\n",
       "      <td>1243</td>\n",
       "      <td>8432</td>\n",
       "      <td>564778</td>\n",
       "      <td>1962</td>\n",
       "      <td>orange</td>\n",
       "      <td>55</td>\n",
       "      <td>california</td>\n",
       "    </tr>\n",
       "    <tr>\n",
       "      <th>3</th>\n",
       "      <td>4</td>\n",
       "      <td>3</td>\n",
       "      <td>2376</td>\n",
       "      <td>13038</td>\n",
       "      <td>145143</td>\n",
       "      <td>1970</td>\n",
       "      <td>los_angeles</td>\n",
       "      <td>47</td>\n",
       "      <td>california</td>\n",
       "    </tr>\n",
       "    <tr>\n",
       "      <th>4</th>\n",
       "      <td>4</td>\n",
       "      <td>3</td>\n",
       "      <td>2962</td>\n",
       "      <td>63000</td>\n",
       "      <td>773303</td>\n",
       "      <td>1950</td>\n",
       "      <td>los_angeles</td>\n",
       "      <td>67</td>\n",
       "      <td>california</td>\n",
       "    </tr>\n",
       "  </tbody>\n",
       "</table>\n",
       "</div>"
      ],
      "text/plain": [
       "   bedroom  bathroom  square_ft  lot_size  tax_value  year_built         fips  \\\n",
       "0        4         3       3100      4506    1023282        1998       orange   \n",
       "1        2         1       1465     12647     464000        1967      ventura   \n",
       "2        3         2       1243      8432     564778        1962       orange   \n",
       "3        4         3       2376     13038     145143        1970  los_angeles   \n",
       "4        4         3       2962     63000     773303        1950  los_angeles   \n",
       "\n",
       "   age       state  \n",
       "0   19  california  \n",
       "1   50  california  \n",
       "2   55  california  \n",
       "3   47  california  \n",
       "4   67  california  "
      ]
     },
     "execution_count": 22,
     "metadata": {},
     "output_type": "execute_result"
    }
   ],
   "source": [
    "df.head()"
   ]
  },
  {
   "cell_type": "code",
   "execution_count": 23,
   "id": "918fd561-9b52-4764-a6ab-a8153edc37b2",
   "metadata": {},
   "outputs": [
    {
     "data": {
      "text/plain": [
       "bedroom        int64\n",
       "bathroom       int64\n",
       "square_ft      int64\n",
       "lot_size       int64\n",
       "tax_value      int64\n",
       "year_built     int64\n",
       "fips          object\n",
       "age            int64\n",
       "state         object\n",
       "dtype: object"
      ]
     },
     "execution_count": 23,
     "metadata": {},
     "output_type": "execute_result"
    }
   ],
   "source": [
    "#check dtypes and make adjustments in my wrangle.py notebook\n",
    "df.dtypes"
   ]
  },
  {
   "cell_type": "code",
   "execution_count": 24,
   "id": "84aade6a-0080-43be-a281-d98ab8cf135c",
   "metadata": {},
   "outputs": [],
   "source": [
    "# creat dummy columns for fips so it will be easier to evaluate later\n",
    "\n",
    "dummy_df = pd.get_dummies(df['fips'])\n",
    "df = pd.concat([df, dummy_df], axis = 1)"
   ]
  },
  {
   "cell_type": "code",
   "execution_count": 25,
   "id": "594bd964-71b3-4e54-801b-f4642b9b3427",
   "metadata": {},
   "outputs": [
    {
     "data": {
      "text/html": [
       "<div>\n",
       "<style scoped>\n",
       "    .dataframe tbody tr th:only-of-type {\n",
       "        vertical-align: middle;\n",
       "    }\n",
       "\n",
       "    .dataframe tbody tr th {\n",
       "        vertical-align: top;\n",
       "    }\n",
       "\n",
       "    .dataframe thead th {\n",
       "        text-align: right;\n",
       "    }\n",
       "</style>\n",
       "<table border=\"1\" class=\"dataframe\">\n",
       "  <thead>\n",
       "    <tr style=\"text-align: right;\">\n",
       "      <th></th>\n",
       "      <th>bedroom</th>\n",
       "      <th>bathroom</th>\n",
       "      <th>square_ft</th>\n",
       "      <th>lot_size</th>\n",
       "      <th>tax_value</th>\n",
       "      <th>year_built</th>\n",
       "      <th>fips</th>\n",
       "      <th>age</th>\n",
       "      <th>state</th>\n",
       "      <th>los_angeles</th>\n",
       "      <th>orange</th>\n",
       "      <th>ventura</th>\n",
       "    </tr>\n",
       "  </thead>\n",
       "  <tbody>\n",
       "    <tr>\n",
       "      <th>0</th>\n",
       "      <td>4</td>\n",
       "      <td>3</td>\n",
       "      <td>3100</td>\n",
       "      <td>4506</td>\n",
       "      <td>1023282</td>\n",
       "      <td>1998</td>\n",
       "      <td>orange</td>\n",
       "      <td>19</td>\n",
       "      <td>california</td>\n",
       "      <td>0</td>\n",
       "      <td>1</td>\n",
       "      <td>0</td>\n",
       "    </tr>\n",
       "    <tr>\n",
       "      <th>1</th>\n",
       "      <td>2</td>\n",
       "      <td>1</td>\n",
       "      <td>1465</td>\n",
       "      <td>12647</td>\n",
       "      <td>464000</td>\n",
       "      <td>1967</td>\n",
       "      <td>ventura</td>\n",
       "      <td>50</td>\n",
       "      <td>california</td>\n",
       "      <td>0</td>\n",
       "      <td>0</td>\n",
       "      <td>1</td>\n",
       "    </tr>\n",
       "    <tr>\n",
       "      <th>2</th>\n",
       "      <td>3</td>\n",
       "      <td>2</td>\n",
       "      <td>1243</td>\n",
       "      <td>8432</td>\n",
       "      <td>564778</td>\n",
       "      <td>1962</td>\n",
       "      <td>orange</td>\n",
       "      <td>55</td>\n",
       "      <td>california</td>\n",
       "      <td>0</td>\n",
       "      <td>1</td>\n",
       "      <td>0</td>\n",
       "    </tr>\n",
       "    <tr>\n",
       "      <th>3</th>\n",
       "      <td>4</td>\n",
       "      <td>3</td>\n",
       "      <td>2376</td>\n",
       "      <td>13038</td>\n",
       "      <td>145143</td>\n",
       "      <td>1970</td>\n",
       "      <td>los_angeles</td>\n",
       "      <td>47</td>\n",
       "      <td>california</td>\n",
       "      <td>1</td>\n",
       "      <td>0</td>\n",
       "      <td>0</td>\n",
       "    </tr>\n",
       "    <tr>\n",
       "      <th>4</th>\n",
       "      <td>4</td>\n",
       "      <td>3</td>\n",
       "      <td>2962</td>\n",
       "      <td>63000</td>\n",
       "      <td>773303</td>\n",
       "      <td>1950</td>\n",
       "      <td>los_angeles</td>\n",
       "      <td>67</td>\n",
       "      <td>california</td>\n",
       "      <td>1</td>\n",
       "      <td>0</td>\n",
       "      <td>0</td>\n",
       "    </tr>\n",
       "  </tbody>\n",
       "</table>\n",
       "</div>"
      ],
      "text/plain": [
       "   bedroom  bathroom  square_ft  lot_size  tax_value  year_built         fips  \\\n",
       "0        4         3       3100      4506    1023282        1998       orange   \n",
       "1        2         1       1465     12647     464000        1967      ventura   \n",
       "2        3         2       1243      8432     564778        1962       orange   \n",
       "3        4         3       2376     13038     145143        1970  los_angeles   \n",
       "4        4         3       2962     63000     773303        1950  los_angeles   \n",
       "\n",
       "   age       state  los_angeles  orange  ventura  \n",
       "0   19  california            0       1        0  \n",
       "1   50  california            0       0        1  \n",
       "2   55  california            0       1        0  \n",
       "3   47  california            1       0        0  \n",
       "4   67  california            1       0        0  "
      ]
     },
     "execution_count": 25,
     "metadata": {},
     "output_type": "execute_result"
    }
   ],
   "source": [
    "# look at df witih dummy columns added\n",
    "df.head()"
   ]
  },
  {
   "cell_type": "code",
   "execution_count": 26,
   "id": "cba2351c-f94f-4621-afbf-cd7107f45fd6",
   "metadata": {},
   "outputs": [
    {
     "data": {
      "text/html": [
       "<div>\n",
       "<style scoped>\n",
       "    .dataframe tbody tr th:only-of-type {\n",
       "        vertical-align: middle;\n",
       "    }\n",
       "\n",
       "    .dataframe tbody tr th {\n",
       "        vertical-align: top;\n",
       "    }\n",
       "\n",
       "    .dataframe thead th {\n",
       "        text-align: right;\n",
       "    }\n",
       "</style>\n",
       "<table border=\"1\" class=\"dataframe\">\n",
       "  <thead>\n",
       "    <tr style=\"text-align: right;\">\n",
       "      <th></th>\n",
       "      <th>count</th>\n",
       "      <th>mean</th>\n",
       "      <th>std</th>\n",
       "      <th>min</th>\n",
       "      <th>25%</th>\n",
       "      <th>50%</th>\n",
       "      <th>75%</th>\n",
       "      <th>max</th>\n",
       "    </tr>\n",
       "  </thead>\n",
       "  <tbody>\n",
       "    <tr>\n",
       "      <th>bedroom</th>\n",
       "      <td>51959.0</td>\n",
       "      <td>3.304952</td>\n",
       "      <td>0.934239</td>\n",
       "      <td>0.0</td>\n",
       "      <td>3.0</td>\n",
       "      <td>3.0</td>\n",
       "      <td>4.0</td>\n",
       "      <td>11.0</td>\n",
       "    </tr>\n",
       "    <tr>\n",
       "      <th>bathroom</th>\n",
       "      <td>51959.0</td>\n",
       "      <td>2.233222</td>\n",
       "      <td>0.989084</td>\n",
       "      <td>0.0</td>\n",
       "      <td>2.0</td>\n",
       "      <td>2.0</td>\n",
       "      <td>3.0</td>\n",
       "      <td>13.0</td>\n",
       "    </tr>\n",
       "    <tr>\n",
       "      <th>square_ft</th>\n",
       "      <td>51959.0</td>\n",
       "      <td>1918.251506</td>\n",
       "      <td>994.308287</td>\n",
       "      <td>128.0</td>\n",
       "      <td>1268.0</td>\n",
       "      <td>1657.0</td>\n",
       "      <td>2301.0</td>\n",
       "      <td>21929.0</td>\n",
       "    </tr>\n",
       "    <tr>\n",
       "      <th>lot_size</th>\n",
       "      <td>51959.0</td>\n",
       "      <td>11251.588830</td>\n",
       "      <td>86640.635731</td>\n",
       "      <td>236.0</td>\n",
       "      <td>5581.5</td>\n",
       "      <td>6838.0</td>\n",
       "      <td>8777.0</td>\n",
       "      <td>6971010.0</td>\n",
       "    </tr>\n",
       "    <tr>\n",
       "      <th>tax_value</th>\n",
       "      <td>51959.0</td>\n",
       "      <td>525552.311842</td>\n",
       "      <td>716442.460110</td>\n",
       "      <td>1000.0</td>\n",
       "      <td>193482.5</td>\n",
       "      <td>372791.0</td>\n",
       "      <td>616741.5</td>\n",
       "      <td>25381250.0</td>\n",
       "    </tr>\n",
       "    <tr>\n",
       "      <th>year_built</th>\n",
       "      <td>51959.0</td>\n",
       "      <td>1963.247849</td>\n",
       "      <td>22.976170</td>\n",
       "      <td>1878.0</td>\n",
       "      <td>1950.0</td>\n",
       "      <td>1960.0</td>\n",
       "      <td>1979.0</td>\n",
       "      <td>2016.0</td>\n",
       "    </tr>\n",
       "    <tr>\n",
       "      <th>age</th>\n",
       "      <td>51959.0</td>\n",
       "      <td>53.752151</td>\n",
       "      <td>22.976170</td>\n",
       "      <td>1.0</td>\n",
       "      <td>38.0</td>\n",
       "      <td>57.0</td>\n",
       "      <td>67.0</td>\n",
       "      <td>139.0</td>\n",
       "    </tr>\n",
       "    <tr>\n",
       "      <th>los_angeles</th>\n",
       "      <td>51959.0</td>\n",
       "      <td>0.646029</td>\n",
       "      <td>0.478205</td>\n",
       "      <td>0.0</td>\n",
       "      <td>0.0</td>\n",
       "      <td>1.0</td>\n",
       "      <td>1.0</td>\n",
       "      <td>1.0</td>\n",
       "    </tr>\n",
       "    <tr>\n",
       "      <th>orange</th>\n",
       "      <td>51959.0</td>\n",
       "      <td>0.270098</td>\n",
       "      <td>0.444014</td>\n",
       "      <td>0.0</td>\n",
       "      <td>0.0</td>\n",
       "      <td>0.0</td>\n",
       "      <td>1.0</td>\n",
       "      <td>1.0</td>\n",
       "    </tr>\n",
       "    <tr>\n",
       "      <th>ventura</th>\n",
       "      <td>51959.0</td>\n",
       "      <td>0.083874</td>\n",
       "      <td>0.277201</td>\n",
       "      <td>0.0</td>\n",
       "      <td>0.0</td>\n",
       "      <td>0.0</td>\n",
       "      <td>0.0</td>\n",
       "      <td>1.0</td>\n",
       "    </tr>\n",
       "  </tbody>\n",
       "</table>\n",
       "</div>"
      ],
      "text/plain": [
       "               count           mean            std     min       25%  \\\n",
       "bedroom      51959.0       3.304952       0.934239     0.0       3.0   \n",
       "bathroom     51959.0       2.233222       0.989084     0.0       2.0   \n",
       "square_ft    51959.0    1918.251506     994.308287   128.0    1268.0   \n",
       "lot_size     51959.0   11251.588830   86640.635731   236.0    5581.5   \n",
       "tax_value    51959.0  525552.311842  716442.460110  1000.0  193482.5   \n",
       "year_built   51959.0    1963.247849      22.976170  1878.0    1950.0   \n",
       "age          51959.0      53.752151      22.976170     1.0      38.0   \n",
       "los_angeles  51959.0       0.646029       0.478205     0.0       0.0   \n",
       "orange       51959.0       0.270098       0.444014     0.0       0.0   \n",
       "ventura      51959.0       0.083874       0.277201     0.0       0.0   \n",
       "\n",
       "                  50%       75%         max  \n",
       "bedroom           3.0       4.0        11.0  \n",
       "bathroom          2.0       3.0        13.0  \n",
       "square_ft      1657.0    2301.0     21929.0  \n",
       "lot_size       6838.0    8777.0   6971010.0  \n",
       "tax_value    372791.0  616741.5  25381250.0  \n",
       "year_built     1960.0    1979.0      2016.0  \n",
       "age              57.0      67.0       139.0  \n",
       "los_angeles       1.0       1.0         1.0  \n",
       "orange            0.0       1.0         1.0  \n",
       "ventura           0.0       0.0         1.0  "
      ]
     },
     "execution_count": 26,
     "metadata": {},
     "output_type": "execute_result"
    }
   ],
   "source": [
    "# general overview after some changes have been made\n",
    "\n",
    "df.describe().T"
   ]
  },
  {
   "cell_type": "code",
   "execution_count": 27,
   "id": "7d147ce0-bb78-4fc9-b7ad-d9c1eaa2ed73",
   "metadata": {
    "tags": []
   },
   "outputs": [],
   "source": [
    "# addressing the outliers in the dataset\n",
    "\n",
    "def remove_outliers(df, k, col_list):\n",
    "    ''' this function take in a dataframe, k value, and specified columns \n",
    "    within a dataframe and then return the dataframe with outliers removed\n",
    "    '''\n",
    "    for col in col_list:\n",
    "\n",
    "        q1, q3 = df[col].quantile([.25, .75])  # get quartiles\n",
    "        \n",
    "        iqr = q3 - q1   # calculate interquartile range\n",
    "        \n",
    "        upper_bound = q3 + k * iqr   # get upper bound\n",
    "        lower_bound = q1 - k * iqr   # get lower bound\n",
    "\n",
    "        # return dataframe without outliers\n",
    "        \n",
    "        df = df[(df[col] > lower_bound) & (df[col] < upper_bound)]\n",
    "        \n",
    "    return df"
   ]
  },
  {
   "cell_type": "code",
   "execution_count": 28,
   "id": "fd8bdc0e-40b3-4ce3-a4d8-bb722cd8411b",
   "metadata": {},
   "outputs": [],
   "source": [
    "df = remove_outliers(df, 3.0, ['bedroom', 'bathroom', 'square_ft','lot_size', 'tax_value', 'age', 'year_built'])"
   ]
  },
  {
   "cell_type": "code",
   "execution_count": 29,
   "id": "faabed43-1403-4fd9-bdc8-9c97d96614ed",
   "metadata": {},
   "outputs": [
    {
     "data": {
      "text/html": [
       "<div>\n",
       "<style scoped>\n",
       "    .dataframe tbody tr th:only-of-type {\n",
       "        vertical-align: middle;\n",
       "    }\n",
       "\n",
       "    .dataframe tbody tr th {\n",
       "        vertical-align: top;\n",
       "    }\n",
       "\n",
       "    .dataframe thead th {\n",
       "        text-align: right;\n",
       "    }\n",
       "</style>\n",
       "<table border=\"1\" class=\"dataframe\">\n",
       "  <thead>\n",
       "    <tr style=\"text-align: right;\">\n",
       "      <th></th>\n",
       "      <th>count</th>\n",
       "      <th>mean</th>\n",
       "      <th>std</th>\n",
       "      <th>min</th>\n",
       "      <th>25%</th>\n",
       "      <th>50%</th>\n",
       "      <th>75%</th>\n",
       "      <th>max</th>\n",
       "    </tr>\n",
       "  </thead>\n",
       "  <tbody>\n",
       "    <tr>\n",
       "      <th>bedroom</th>\n",
       "      <td>46857.0</td>\n",
       "      <td>3.241650</td>\n",
       "      <td>0.869577</td>\n",
       "      <td>1.0</td>\n",
       "      <td>3.0</td>\n",
       "      <td>3.0</td>\n",
       "      <td>4.0</td>\n",
       "      <td>6.0</td>\n",
       "    </tr>\n",
       "    <tr>\n",
       "      <th>bathroom</th>\n",
       "      <td>46857.0</td>\n",
       "      <td>2.103997</td>\n",
       "      <td>0.808444</td>\n",
       "      <td>0.0</td>\n",
       "      <td>2.0</td>\n",
       "      <td>2.0</td>\n",
       "      <td>3.0</td>\n",
       "      <td>5.0</td>\n",
       "    </tr>\n",
       "    <tr>\n",
       "      <th>square_ft</th>\n",
       "      <td>46857.0</td>\n",
       "      <td>1764.695883</td>\n",
       "      <td>723.879816</td>\n",
       "      <td>152.0</td>\n",
       "      <td>1242.0</td>\n",
       "      <td>1593.0</td>\n",
       "      <td>2130.0</td>\n",
       "      <td>5288.0</td>\n",
       "    </tr>\n",
       "    <tr>\n",
       "      <th>lot_size</th>\n",
       "      <td>46857.0</td>\n",
       "      <td>7013.844826</td>\n",
       "      <td>2735.086760</td>\n",
       "      <td>236.0</td>\n",
       "      <td>5450.0</td>\n",
       "      <td>6615.0</td>\n",
       "      <td>8003.0</td>\n",
       "      <td>17787.0</td>\n",
       "    </tr>\n",
       "    <tr>\n",
       "      <th>tax_value</th>\n",
       "      <td>46857.0</td>\n",
       "      <td>416710.415221</td>\n",
       "      <td>314126.220167</td>\n",
       "      <td>3254.0</td>\n",
       "      <td>183437.0</td>\n",
       "      <td>352080.0</td>\n",
       "      <td>559188.0</td>\n",
       "      <td>1751776.0</td>\n",
       "    </tr>\n",
       "    <tr>\n",
       "      <th>year_built</th>\n",
       "      <td>46857.0</td>\n",
       "      <td>1962.249952</td>\n",
       "      <td>22.576541</td>\n",
       "      <td>1878.0</td>\n",
       "      <td>1950.0</td>\n",
       "      <td>1959.0</td>\n",
       "      <td>1977.0</td>\n",
       "      <td>2016.0</td>\n",
       "    </tr>\n",
       "    <tr>\n",
       "      <th>age</th>\n",
       "      <td>46857.0</td>\n",
       "      <td>54.750048</td>\n",
       "      <td>22.576541</td>\n",
       "      <td>1.0</td>\n",
       "      <td>40.0</td>\n",
       "      <td>58.0</td>\n",
       "      <td>67.0</td>\n",
       "      <td>139.0</td>\n",
       "    </tr>\n",
       "    <tr>\n",
       "      <th>los_angeles</th>\n",
       "      <td>46857.0</td>\n",
       "      <td>0.640438</td>\n",
       "      <td>0.479877</td>\n",
       "      <td>0.0</td>\n",
       "      <td>0.0</td>\n",
       "      <td>1.0</td>\n",
       "      <td>1.0</td>\n",
       "      <td>1.0</td>\n",
       "    </tr>\n",
       "    <tr>\n",
       "      <th>orange</th>\n",
       "      <td>46857.0</td>\n",
       "      <td>0.277973</td>\n",
       "      <td>0.448005</td>\n",
       "      <td>0.0</td>\n",
       "      <td>0.0</td>\n",
       "      <td>0.0</td>\n",
       "      <td>1.0</td>\n",
       "      <td>1.0</td>\n",
       "    </tr>\n",
       "    <tr>\n",
       "      <th>ventura</th>\n",
       "      <td>46857.0</td>\n",
       "      <td>0.081589</td>\n",
       "      <td>0.273740</td>\n",
       "      <td>0.0</td>\n",
       "      <td>0.0</td>\n",
       "      <td>0.0</td>\n",
       "      <td>0.0</td>\n",
       "      <td>1.0</td>\n",
       "    </tr>\n",
       "  </tbody>\n",
       "</table>\n",
       "</div>"
      ],
      "text/plain": [
       "               count           mean            std     min       25%  \\\n",
       "bedroom      46857.0       3.241650       0.869577     1.0       3.0   \n",
       "bathroom     46857.0       2.103997       0.808444     0.0       2.0   \n",
       "square_ft    46857.0    1764.695883     723.879816   152.0    1242.0   \n",
       "lot_size     46857.0    7013.844826    2735.086760   236.0    5450.0   \n",
       "tax_value    46857.0  416710.415221  314126.220167  3254.0  183437.0   \n",
       "year_built   46857.0    1962.249952      22.576541  1878.0    1950.0   \n",
       "age          46857.0      54.750048      22.576541     1.0      40.0   \n",
       "los_angeles  46857.0       0.640438       0.479877     0.0       0.0   \n",
       "orange       46857.0       0.277973       0.448005     0.0       0.0   \n",
       "ventura      46857.0       0.081589       0.273740     0.0       0.0   \n",
       "\n",
       "                  50%       75%        max  \n",
       "bedroom           3.0       4.0        6.0  \n",
       "bathroom          2.0       3.0        5.0  \n",
       "square_ft      1593.0    2130.0     5288.0  \n",
       "lot_size       6615.0    8003.0    17787.0  \n",
       "tax_value    352080.0  559188.0  1751776.0  \n",
       "year_built     1959.0    1977.0     2016.0  \n",
       "age              58.0      67.0      139.0  \n",
       "los_angeles       1.0       1.0        1.0  \n",
       "orange            0.0       1.0        1.0  \n",
       "ventura           0.0       0.0        1.0  "
      ]
     },
     "execution_count": 29,
     "metadata": {},
     "output_type": "execute_result"
    }
   ],
   "source": [
    "# re-checking my dataframe and seeing outliers removed\n",
    "\n",
    "df.describe().T"
   ]
  },
  {
   "cell_type": "code",
   "execution_count": 30,
   "id": "984ede06-14d0-4e9d-b35c-0129a47d2038",
   "metadata": {},
   "outputs": [
    {
     "data": {
      "text/plain": [
       "bedroom         int64\n",
       "bathroom        int64\n",
       "square_ft       int64\n",
       "lot_size        int64\n",
       "tax_value       int64\n",
       "year_built      int64\n",
       "fips           object\n",
       "age             int64\n",
       "state          object\n",
       "los_angeles     uint8\n",
       "orange          uint8\n",
       "ventura         uint8\n",
       "dtype: object"
      ]
     },
     "execution_count": 30,
     "metadata": {},
     "output_type": "execute_result"
    }
   ],
   "source": [
    "df.dtypes"
   ]
  },
  {
   "cell_type": "code",
   "execution_count": 31,
   "id": "6f5a8ebd-3928-490a-859f-d1249084922d",
   "metadata": {
    "jp-MarkdownHeadingCollapsed": true,
    "tags": []
   },
   "outputs": [
    {
     "data": {
      "text/plain": [
       "(46857, 12)"
      ]
     },
     "execution_count": 31,
     "metadata": {},
     "output_type": "execute_result"
    }
   ],
   "source": [
    "# Check how many rows dropped after cleaning\n",
    "\n",
    "df.shape"
   ]
  },
  {
   "cell_type": "markdown",
   "id": "5ca75167-958e-4a74-a7a7-955dc820d55b",
   "metadata": {},
   "source": [
    "### Takeaways\n",
    "- 46_857 rows left. 7K dropped\n",
    "    - MEAN home value 416_710  \n",
    "    - MAX  home value 1_751_776 \n",
    "- null values dropped\n",
    "- outliers removed\n",
    "- columns renamed\n",
    "- data types adjusted\n",
    "- fips columns converted to 'county' column"
   ]
  },
  {
   "cell_type": "markdown",
   "id": "8513c88f-8be8-457b-bef4-7574aa2f84fd",
   "metadata": {},
   "source": [
    "# Exploration"
   ]
  },
  {
   "cell_type": "code",
   "execution_count": 32,
   "id": "e28f1adb-e552-49c0-bf7e-590e2ec75c9b",
   "metadata": {},
   "outputs": [
    {
     "name": "stdout",
     "output_type": "stream",
     "text": [
      "Using cached csv\n"
     ]
    }
   ],
   "source": [
    "train, validate, test,train_scaled, validate_scaled, test_scaled = prepare.wrangle_zillow()"
   ]
  },
  {
   "cell_type": "code",
   "execution_count": 33,
   "id": "e392ee12-2c02-40cd-88ea-fcce171bc8ca",
   "metadata": {},
   "outputs": [
    {
     "data": {
      "text/plain": [
       "((26239, 12), (11246, 12), (9372, 12))"
      ]
     },
     "execution_count": 33,
     "metadata": {},
     "output_type": "execute_result"
    }
   ],
   "source": [
    "train.shape, validate.shape, test.shape"
   ]
  },
  {
   "cell_type": "markdown",
   "id": "f82614da-5220-4704-a9fb-09795b400841",
   "metadata": {},
   "source": [
    "df2.describe().T"
   ]
  },
  {
   "cell_type": "markdown",
   "id": "f4b74c2c-e36a-4751-88aa-09b9e0dc035e",
   "metadata": {},
   "source": [
    "### Takeaways\n",
    "- There were some outliers that made initial visualizations difficult. \n",
    "- Outliers needed to be removed."
   ]
  },
  {
   "cell_type": "markdown",
   "id": "075110bf-8202-490c-80fd-61c286fb6933",
   "metadata": {
    "tags": []
   },
   "source": [
    "## Exploration\n",
    "    - What drives property tax values\n"
   ]
  },
  {
   "cell_type": "code",
   "execution_count": 34,
   "id": "08a9dc69-cab7-4967-918f-7639133a0b9c",
   "metadata": {},
   "outputs": [
    {
     "name": "stdout",
     "output_type": "stream",
     "text": [
      "Using cached csv\n"
     ]
    },
    {
     "ename": "ValueError",
     "evalue": "too many values to unpack (expected 3)",
     "output_type": "error",
     "traceback": [
      "\u001b[0;31m---------------------------------------------------------------------------\u001b[0m",
      "\u001b[0;31mValueError\u001b[0m                                Traceback (most recent call last)",
      "\u001b[0;32m/var/folders/dy/6l70n7994h596yst0fdjbly40000gn/T/ipykernel_39216/791279887.py\u001b[0m in \u001b[0;36m<module>\u001b[0;34m\u001b[0m\n\u001b[0;32m----> 1\u001b[0;31m \u001b[0mtrain\u001b[0m\u001b[0;34m,\u001b[0m \u001b[0mvalidate\u001b[0m\u001b[0;34m,\u001b[0m \u001b[0mtest\u001b[0m \u001b[0;34m=\u001b[0m \u001b[0mprepare\u001b[0m\u001b[0;34m.\u001b[0m\u001b[0mwrangle_zillow\u001b[0m\u001b[0;34m(\u001b[0m\u001b[0;34m)\u001b[0m\u001b[0;34m\u001b[0m\u001b[0;34m\u001b[0m\u001b[0m\n\u001b[0m",
      "\u001b[0;31mValueError\u001b[0m: too many values to unpack (expected 3)"
     ]
    }
   ],
   "source": [
    "train, validate, test = prepare.wrangle_zillow()"
   ]
  },
  {
   "cell_type": "code",
   "execution_count": null,
   "id": "91f28ccc-cb2b-4c61-85e5-353870c3ad93",
   "metadata": {},
   "outputs": [],
   "source": [
    "train.shape, validate.shape, test.shape"
   ]
  },
  {
   "cell_type": "code",
   "execution_count": null,
   "id": "35fb8f0b-41dd-4511-a87e-cc7f51e70f2c",
   "metadata": {},
   "outputs": [],
   "source": [
    "train.isnull().sum()"
   ]
  },
  {
   "cell_type": "code",
   "execution_count": null,
   "id": "28fe855f-9f18-41de-834d-9dbc0e18eb4c",
   "metadata": {},
   "outputs": [],
   "source": [
    "train.dtypes"
   ]
  },
  {
   "cell_type": "code",
   "execution_count": null,
   "id": "0cf5561d-42d0-454f-88f9-c67dbb0edcb2",
   "metadata": {},
   "outputs": [],
   "source": [
    "train.describe().T"
   ]
  },
  {
   "cell_type": "code",
   "execution_count": null,
   "id": "29f4d40f-8c7e-4670-a5f9-6f9aa1b25321",
   "metadata": {},
   "outputs": [],
   "source": [
    "train.head()"
   ]
  },
  {
   "cell_type": "code",
   "execution_count": null,
   "id": "3c162197-87bc-4a8a-b07b-0a7448bceb49",
   "metadata": {
    "tags": []
   },
   "outputs": [],
   "source": [
    "# create a function that takes in a dataframe\n",
    "\n",
    "continuous_cols = ['bedroom', 'bathroom', 'square_ft', 'lot_size', 'age']\n",
    "\n",
    "\n",
    "def plot_variable_pairs(df):\n",
    "    # plot the columns in a pairplot\n",
    "    sns.pairplot(df, kind = 'reg', corner = True, plot_kws={'line_kws':{'color':'orange'}})\n",
    "plt.show()"
   ]
  },
  {
   "cell_type": "code",
   "execution_count": null,
   "id": "831aa25e-4089-4821-8708-9188af7366b7",
   "metadata": {},
   "outputs": [],
   "source": [
    "# call function to visualize continuous columns in the train dataset\n",
    "plot_variable_pairs(train[continuous_cols])"
   ]
  },
  {
   "cell_type": "code",
   "execution_count": null,
   "id": "721acb87-4800-48b9-bd80-f2a4d7fe8729",
   "metadata": {},
   "outputs": [],
   "source": [
    "# Heatmap to visualize correlations in data\n",
    "\n",
    "df_corr = train.corr().reset_index()\n",
    "corr_matrix = train.corr().sort_values(by = 'tax_value', ascending=False)\n",
    "corr_matrix[\"tax_value\"].reset_index().style.background_gradient('gist_earth', vmin = -1, vmax = 1)"
   ]
  },
  {
   "cell_type": "markdown",
   "id": "54d93bb0-673c-4cbc-8eb4-b1c6ee5fa548",
   "metadata": {},
   "source": [
    "## **Questions**\n",
    "#### - Does county affect tax value?\n",
    "#### - Does square footage have an affect on tax value?\n",
    "#### - Does bedroom or bathroom count have an affect on tax value?\n",
    "#### - Does the age of the house affect tax value?"
   ]
  },
  {
   "cell_type": "markdown",
   "id": "3c71fd25-81ea-41f4-bb36-98ba97674b34",
   "metadata": {},
   "source": [
    "### Question 1:\n",
    "        - exploring county and tax_values"
   ]
  },
  {
   "cell_type": "code",
   "execution_count": null,
   "id": "32846f66-2133-4d4f-8795-4f317870856d",
   "metadata": {},
   "outputs": [],
   "source": [
    "\n",
    "plt.figure(figsize=(12,8))\n",
    "\n",
    "plt.subplot(1,2,1)\n",
    "sns.countplot(x='county', palette='cubehelix', data=train)\n",
    "plt.title('Los Angeles has the Most Properties Sold', fontsize=15)\n",
    "\n",
    "plt.subplot(1,2,2)\n",
    "sns.boxplot(x='county', y='tax_value', data=train , palette='cubehelix')\n",
    "plt.title('Tax Values are Highest in Orange County', fontsize=15)\n",
    "\n",
    "plt.tight_layout()"
   ]
  },
  {
   "cell_type": "code",
   "execution_count": null,
   "id": "2292001c-f06c-4f83-b774-66078b9977a9",
   "metadata": {},
   "outputs": [],
   "source": [
    "# look at ttest for orange county\n",
    "# spearmanr for county"
   ]
  },
  {
   "cell_type": "markdown",
   "id": "71be328a-3083-43c7-ad5b-19efe3ddf344",
   "metadata": {},
   "source": [
    "### Question 2 \n",
    "        - exploring square_ft and tax_value"
   ]
  },
  {
   "cell_type": "code",
   "execution_count": null,
   "id": "339eef8f-87be-4487-9e61-ec2381d094bc",
   "metadata": {},
   "outputs": [],
   "source": [
    "# jointplot for \n",
    "plt.figure(figsize=(10,8))\n",
    "sns.jointplot(x= 'square_ft',y= 'tax_value', data=train, kind = 'reg', line_kws = {'color' :'red'})\n",
    "plt.show()"
   ]
  },
  {
   "cell_type": "markdown",
   "id": "020df85e-89be-40b6-935e-b45d2b6f0951",
   "metadata": {},
   "source": [
    "### Hypothesis testing with Pearson's r\n",
    "\n",
    "    Null Hypothesis : There is no linear relationship between square_ft and property tax value\n",
    "\n",
    "    Alternative Hypothesis: There is a linear relationship between square_ft and tax value"
   ]
  },
  {
   "cell_type": "code",
   "execution_count": null,
   "id": "8f8a03bc-0910-4510-8610-cad18b69bb62",
   "metadata": {},
   "outputs": [],
   "source": [
    "alpha = .05\n",
    "r, p_value = stats.pearsonr(train.square_ft, train.tax_value)\n",
    "r, p_value\n",
    "\n",
    "if p_value > alpha:\n",
    "    print('We fail to reject the null hypothesis')\n",
    "else:\n",
    "    print('We reject the null hypothesis')\n",
    "print(f'p-value: {round(p_value,3)}')"
   ]
  },
  {
   "cell_type": "markdown",
   "id": "1b48a616-6f5d-4f38-b119-5cd606a4c8e7",
   "metadata": {},
   "source": [
    "### Question 3:\n",
    "        - explore bedroom and tax_value"
   ]
  },
  {
   "cell_type": "code",
   "execution_count": null,
   "id": "d583f822-9426-4cee-b4c5-1557c0dde4c8",
   "metadata": {},
   "outputs": [],
   "source": [
    "# Visualize number of bedrooms and their relationship with tax value\n",
    "\n",
    "ax = sns.relplot(x='bedroom', y='tax_value', data=train, kind='scatter', hue='county')\n",
    "ax.set(yscale='log')\n",
    "plt.title('Bedroom and tax value')\n",
    "plt.show()"
   ]
  },
  {
   "cell_type": "markdown",
   "id": "31e6e9c4-c358-4a29-8735-fa7b9b0c715e",
   "metadata": {
    "tags": []
   },
   "source": [
    "### Hypothesis testing with Pearson's r\n",
    "\n",
    "    Null Hypothesis : There is no linear relationship between number of bedrooms and property tax value\n",
    "\n",
    "    Alternative Hypothesis: There is a linear relationship between number of bedrooms and tax value"
   ]
  },
  {
   "cell_type": "code",
   "execution_count": null,
   "id": "29c0c318-1067-4272-a8cb-651203e76b72",
   "metadata": {
    "tags": []
   },
   "outputs": [],
   "source": [
    "# statistical analysis to of visual above\n",
    "\n",
    "alpha = 0.05\n",
    "\n",
    "r, p_value = pearsonr(train.bedroom, train.tax_value)\n",
    "\n",
    "if p_value > alpha:\n",
    "    print('We fail to reject the null hypothesis')\n",
    "else:\n",
    "    print('We reject the null hypothesis')\n",
    "print(f'p-value: {round(p_value,3)}')"
   ]
  },
  {
   "cell_type": "markdown",
   "id": "95a23fe0-5aed-4471-99ae-02d468ec24f5",
   "metadata": {},
   "source": [
    "### Question 4\n",
    "        - Explore bathroom and tax_value"
   ]
  },
  {
   "cell_type": "code",
   "execution_count": null,
   "id": "a72912e8-36af-4a7c-a29d-f66ce93bfe9b",
   "metadata": {
    "tags": []
   },
   "outputs": [],
   "source": [
    "#visualize bathroom and tax value\n",
    "\n",
    "ax2 = sns.relplot(x='bathroom', y='tax_value', data=train, kind='scatter', hue='county')\n",
    "ax2.set(yscale='log')\n",
    "plt.title('Bathroom and tax value')\n",
    "plt.show()\n",
    "\n",
    "alpha = 0.05\n"
   ]
  },
  {
   "cell_type": "markdown",
   "id": "009a86c1-d36e-425c-b23b-7493a4324577",
   "metadata": {
    "tags": []
   },
   "source": [
    "### Hypothesis testing with Pearson's r\n",
    "\n",
    "    Null Hypothesis : There is no linear relationship between number of bathrooms and property tax value\n",
    "\n",
    "    Alternative Hypothesis: There is a linear relationship between number of bathrooms and tax value"
   ]
  },
  {
   "cell_type": "code",
   "execution_count": null,
   "id": "624ce4e0-43ee-45e5-80dd-d0cd48d8b675",
   "metadata": {},
   "outputs": [],
   "source": [
    "alpha = 0.05\n",
    "\n",
    "r, p_value = pearsonr(train.bathroom, train.tax_value)\n",
    "\n",
    "if p_value > alpha:\n",
    "    print('We fail to reject the null hypothesis')\n",
    "else:\n",
    "    print('We reject the null hypothesis')\n",
    "print(f'p-value: {round(p_value,3)}')"
   ]
  },
  {
   "cell_type": "markdown",
   "id": "f0624e6e-c732-47a5-9173-8c565c4b19ee",
   "metadata": {},
   "source": [
    "### Question 5:\n",
    "    - Explore lot_size and tax_value"
   ]
  },
  {
   "cell_type": "code",
   "execution_count": null,
   "id": "c5d542cb-9603-42ff-8fc0-1d8350395c5c",
   "metadata": {},
   "outputs": [],
   "source": [
    "# visualize lot_size and tax_value\n",
    "sns.jointplot('lot_size', 'tax_value', data=train, kind = 'reg', line_kws={'color':'red'})\n",
    "plt.show()\n"
   ]
  },
  {
   "cell_type": "markdown",
   "id": "653c162a-3769-4c50-a5db-b23643112939",
   "metadata": {},
   "source": [
    "### Hypothesis testing with Pearson's r\n",
    "\n",
    "    Null Hypothesis : There is no linear relationship between square_ft and property tax value\n",
    "\n",
    "    Alternative Hypothesis: There is a linear relationship between square_ft and tax value"
   ]
  },
  {
   "cell_type": "code",
   "execution_count": null,
   "id": "993368fc-b748-46de-bffc-bbf94e73c3c9",
   "metadata": {},
   "outputs": [],
   "source": [
    "# statistical analysis to of visual above\n",
    "\n",
    "alpha = 0.05\n",
    "\n",
    "r, p_value = pearsonr(train.bedroom, train.tax_value)\n",
    "\n",
    "if p_value > alpha:\n",
    "    print('We fail to reject the null hypothesis')\n",
    "else:\n",
    "    print('We reject the null hypothesis')\n",
    "print(f'p-value: {round(p_value,3)}')"
   ]
  },
  {
   "cell_type": "markdown",
   "id": "d89866c7-d9e4-48f9-b8e4-4d64c8ec0fa6",
   "metadata": {},
   "source": [
    "### Question 6:\n",
    "    - Explore age and tax_value"
   ]
  },
  {
   "cell_type": "code",
   "execution_count": null,
   "id": "60fad757-3e7d-444a-83d5-3d0e94564d4f",
   "metadata": {},
   "outputs": [],
   "source": [
    "sns.jointplot(train.age, train.tax_value, kind = 'reg', line_kws = {'color': 'red'})\n",
    "ax.set(\n",
    "    xlabel='House Age',\n",
    "    ylabel='Price / Area',\n",
    "    title='Seems to be little to no relationship between house age and price',\n",
    ")\n",
    "plt.show()"
   ]
  },
  {
   "cell_type": "code",
   "execution_count": null,
   "id": "0f5746de-af93-4a84-8a7d-c5b33e0da06b",
   "metadata": {},
   "outputs": [],
   "source": []
  },
  {
   "cell_type": "markdown",
   "id": "3bc97149-a025-4a22-be3d-8233c92e58ed",
   "metadata": {
    "tags": []
   },
   "source": [
    "# Modeling\n",
    "    - Data needs to be scaled for modeling"
   ]
  },
  {
   "cell_type": "code",
   "execution_count": null,
   "id": "4279510a-8e07-4a47-9b5a-263e9e455a79",
   "metadata": {},
   "outputs": [],
   "source": [
    "# columns need scaling\n",
    "\n",
    "def scale_data(train, validate, test, return_scaler=False):\n",
    "    '''\n",
    "    Scales the 3 data splits.\n",
    "    \n",
    "    takes in the train, validate, and test data splits and returns their scaled counterparts.\n",
    "    \n",
    "    If return_scaler is true, the scaler object will be returned as well.\n",
    "    '''\n",
    "    columns_to_scale = ['bedroom', 'bathroom', 'square_ft', 'lot_size', 'age']\n",
    "    \n",
    "    train_scaled = train.copy()\n",
    "    validate_scaled = validate.copy()\n",
    "    test_scaled = test.copy()\n",
    "    \n",
    "    scaler = MinMaxScaler()\n",
    "    scaler.fit(train[columns_to_scale])\n",
    "    \n",
    "    train_scaled[columns_to_scale] = scaler.transform(train[columns_to_scale])\n",
    "    validate_scaled[columns_to_scale] = scaler.transform(validate[columns_to_scale])\n",
    "    test_scaled[columns_to_scale] = scaler.transform(test[columns_to_scale])\n",
    "    \n",
    "    if return_scaler:\n",
    "        return scaler, train_scaled, validate_scaled, test_scaled\n",
    "    else:\n",
    "        return train_scaled, validate_scaled, test_scaled"
   ]
  },
  {
   "cell_type": "code",
   "execution_count": null,
   "id": "30b28018-24dd-4dee-8f51-daa2e307df10",
   "metadata": {},
   "outputs": [],
   "source": [
    "train_scaled, validate_scaled, test_scaled = scale_data(train, validate, test)\n",
    "train_scaled.shape, validate_scaled.shape, test_scaled.shape"
   ]
  },
  {
   "cell_type": "code",
   "execution_count": null,
   "id": "237e33cf-cf83-446e-96d1-0e0d76dedbda",
   "metadata": {},
   "outputs": [],
   "source": [
    "train_scaled.head()"
   ]
  },
  {
   "cell_type": "code",
   "execution_count": null,
   "id": "96a7abb6-571a-4e3e-aaa6-066d14ae3534",
   "metadata": {},
   "outputs": [],
   "source": [
    "# set my X_train and y_train variables based on the scaled/not scaled data\n",
    "X_train = train_scaled.drop(columns = ['tax_value', 'county','los_angeles', 'orange', 'ventura'])\n",
    "y_train = pd.DataFrame(train.tax_value)\n",
    "\n",
    "X_validate = validate_scaled.drop(columns = ['tax_value', 'county','los_angeles', 'orange', 'ventura'])\n",
    "y_validate = pd.DataFrame(validate.tax_value)\n",
    "\n",
    "X_test = test_scaled.drop(columns = ['tax_value', 'county','los_angeles', 'orange', 'ventura'])\n",
    "y_test= pd.DataFrame(test.tax_value)"
   ]
  },
  {
   "cell_type": "code",
   "execution_count": null,
   "id": "60496441-cd71-4c49-9f8d-2687c0919a59",
   "metadata": {},
   "outputs": [],
   "source": [
    "y_train.head()"
   ]
  },
  {
   "cell_type": "code",
   "execution_count": null,
   "id": "9b875f26-694f-4eb5-abd6-7ec17a0dd06c",
   "metadata": {},
   "outputs": [],
   "source": [
    "plt.figure(figsize=(12,8))\n",
    "sns.histplot(y_train.tax_value)\n",
    "plt.show()"
   ]
  },
  {
   "cell_type": "code",
   "execution_count": null,
   "id": "5e2d050d-7f99-4f3f-ae21-c160dd8b6dab",
   "metadata": {
    "jp-MarkdownHeadingCollapsed": true,
    "tags": []
   },
   "outputs": [],
   "source": [
    "# initialize the ML algorithm\n",
    "lm = LinearRegression()\n",
    "\n",
    "# create the rfe object, indicating the ML object (lm) and the number of features I want to end up with. \n",
    "rfe = RFE(lm, n_features_to_select=3)\n",
    "\n",
    "# fit the data using RFE\n",
    "rfe.fit(X_train , y_train)  \n",
    "\n",
    "feature_mask = rfe.support_\n",
    "\n",
    "rfe_feature = X_train.iloc[:, feature_mask].columns.tolist()\n",
    "\n",
    "rfe_feature"
   ]
  },
  {
   "cell_type": "markdown",
   "id": "8b299f6f-f648-4ce9-aeaf-aae52c7eb2da",
   "metadata": {},
   "source": [
    "## **Baseline**"
   ]
  },
  {
   "cell_type": "code",
   "execution_count": null,
   "id": "51f17a98-ebc5-4c74-a936-d40c7bdb0a2b",
   "metadata": {},
   "outputs": [],
   "source": [
    "# We need y_train and y_validate to be dataframes to append the new columns with predicted values. \n",
    "y_train = pd.DataFrame(y_train)\n",
    "y_validate = pd.DataFrame(y_validate)\n",
    "\n",
    "# 1. Predict tax value_pred_mean\n",
    "tax_value_pred_mean = y_train['tax_value'].mean()\n",
    "y_train['tax_value_pred_mean'] = tax_value_pred_mean\n",
    "y_validate['tax_value_pred_mean'] = tax_value_pred_mean\n",
    "\n",
    "# 2. compute tax value_pred_median\n",
    "tax_value_pred_median = y_train['tax_value'].median()\n",
    "y_train['tax_value_pred_median'] = tax_value_pred_median\n",
    "y_validate['tax_value_pred_median'] = tax_value_pred_median\n",
    "\n",
    "# 3. RMSE of tax_value_pred_mean\n",
    "mean_rmse_train = mean_squared_error(y_train.tax_value, y_train.tax_value_pred_mean)**(1/2)\n",
    "mean_rmse_validate = mean_squared_error(y_validate.tax_value, y_validate.tax_value_pred_mean)**(1/2)\n",
    "\n",
    "print(\"RMSE using Mean\\nTrain/In-Sample: \", round(mean_rmse_train, 2), \n",
    "      \"\\nValidate/Out-of-Sample: \", round(mean_rmse_validate, 2))\n",
    "\n",
    "# 4. RMSE of tax_value_pred_median\n",
    "median_rmse_train = mean_squared_error(y_train.tax_value, y_train.tax_value_pred_median)**(1/2)\n",
    "median_rmse_validate = mean_squared_error(y_validate.tax_value, y_validate.tax_value_pred_median)**(1/2)\n",
    "\n",
    "print(\"\\nRMSE using Median\\nTrain/In-Sample: \", round(median_rmse_train, 2), \n",
    "      \"\\nValidate/Out-of-Sample: \", round(median_rmse_validate, 2))\n"
   ]
  },
  {
   "cell_type": "markdown",
   "id": "8b4d95e6-df50-4e71-b1ae-9159237ebab7",
   "metadata": {},
   "source": [
    "### **Linear Regression (OLS)**"
   ]
  },
  {
   "cell_type": "code",
   "execution_count": null,
   "id": "01fe61ca-b0da-4ac9-a6bb-edc0f3567989",
   "metadata": {},
   "outputs": [],
   "source": [
    "X_train.head()"
   ]
  },
  {
   "cell_type": "code",
   "execution_count": null,
   "id": "14355874-2890-4762-92dc-4b8efb8dae25",
   "metadata": {
    "jp-MarkdownHeadingCollapsed": true,
    "tags": []
   },
   "outputs": [],
   "source": [
    "# create the Linear Regression model object\n",
    "lm = LinearRegression(normalize=True)\n",
    "\n",
    "# fit the model to training data and specify column in y_train  \n",
    "lm.fit(X_train[['bedroom', 'bathroom', 'square_ft']], y_train.tax_value)\n",
    "\n",
    "# predict train & validate\n",
    "y_train['tax_value_pred_lm'] = lm.predict(X_train[['bedroom', 'bathroom', 'square_ft']])\n",
    "y_validate['tax_value_pred_lm'] = lm.predict(X_validate[['bedroom', 'bathroom', 'square_ft']])\n",
    "\n",
    "# evaluate rmse for train & validate\n",
    "lm_rmse_train = mean_squared_error(y_train.tax_value, y_train.tax_value_pred_lm)**(1/2)\n",
    "lm_rmse_validate = mean_squared_error(y_validate.tax_value, y_validate.tax_value_pred_lm)**(1/2)\n",
    "\n",
    "print(\"RMSE for OLS using LinearRegression\\n\\nTraining/In-Sample: \", lm_rmse_train, \n",
    "      \"\\nValidation/Out-of-Sample: \", lm_rmse_validate)"
   ]
  },
  {
   "cell_type": "markdown",
   "id": "c37fc317-7436-4ea2-ae41-52411117d1eb",
   "metadata": {},
   "source": [
    "### **LassoLars**"
   ]
  },
  {
   "cell_type": "code",
   "execution_count": null,
   "id": "1cc4cdff-b987-4d11-97d3-43e74378c544",
   "metadata": {},
   "outputs": [],
   "source": [
    "# create the model object\n",
    "lars = LassoLars(alpha=1.0)\n",
    "\n",
    "# fit the model to our training data. We must specify the column in y_train, \n",
    "# since we have converted it to a dataframe from a series! \n",
    "lars.fit(X_train[['bedroom', 'bathroom', 'square_ft']], y_train.tax_value)\n",
    "\n",
    "# predict train\n",
    "y_train['tax_value_pred_lars'] = lars.predict(X_train[['bedroom', 'bathroom', 'square_ft']])\n",
    "\n",
    "# evaluate: rmse\n",
    "ll_rmse_train = mean_squared_error(y_train.tax_value, y_train.tax_value_pred_lars)**(1/2)\n",
    "\n",
    "# predict validate\n",
    "y_validate['tax_value_pred_lars'] = lars.predict(X_validate[['bedroom', 'bathroom', 'square_ft']])\n",
    "\n",
    "# evaluate: rmse\n",
    "ll_rmse_validate = mean_squared_error(y_validate.tax_value, y_validate.tax_value_pred_lars)**(1/2)\n",
    "\n",
    "print(\"RMSE for Lasso + Lars\\n\\nTraining/In-Sample: \", ll_rmse_train, \n",
    "      \"\\nValidation/Out-of-Sample: \", ll_rmse_validate)\n"
   ]
  },
  {
   "cell_type": "markdown",
   "id": "07aeb40c-aef7-4cb7-b175-44743e1e651b",
   "metadata": {},
   "source": [
    "### **TweedieRegressor (GLM)**"
   ]
  },
  {
   "cell_type": "code",
   "execution_count": null,
   "id": "ec0cf6c6-1a09-45df-a0fb-151fd107cc3e",
   "metadata": {},
   "outputs": [],
   "source": [
    "# create the model object\n",
    "glm = TweedieRegressor(power=1, alpha=0)\n",
    "\n",
    "# fit the model to our training data. We must specify the column in y_train, \n",
    "# since we have converted it to a dataframe from a series! \n",
    "glm.fit(X_train[['bedroom', 'bathroom', 'square_ft']], y_train.tax_value)\n",
    "\n",
    "# predict train\n",
    "y_train['tax_value_pred_glm'] = glm.predict(X_train[['bedroom', 'bathroom', 'square_ft']])\n",
    "\n",
    "# evaluate: rmse\n",
    "glm_rmse_train = mean_squared_error(y_train.tax_value, y_train.tax_value_pred_glm)**(1/2)\n",
    "\n",
    "# predict validate\n",
    "y_validate['tax_value_pred_glm'] = glm.predict(X_validate[['bedroom', 'bathroom', 'square_ft']])\n",
    "\n",
    "# evaluate: rmse\n",
    "glm_rmse_validate = mean_squared_error(y_validate.tax_value, y_validate.tax_value_pred_glm)**(1/2)\n",
    "\n",
    "print(\"RMSE for GLM using Tweedie, power=1 & alpha=0\\n\\nTraining/In-Sample: \", glm_rmse_train, \n",
    "      \"\\nValidation/Out-of-Sample: \", glm_rmse_validate)"
   ]
  },
  {
   "cell_type": "markdown",
   "id": "72fa49ff-2f51-4393-8678-5cafefabf48c",
   "metadata": {},
   "source": [
    "### **PolynomialFeatures**"
   ]
  },
  {
   "cell_type": "code",
   "execution_count": null,
   "id": "37aeb635-7ed2-4e2f-b9d1-73fbae62e486",
   "metadata": {},
   "outputs": [],
   "source": [
    "# make the polynomial features to get a new set of features\n",
    "pf = PolynomialFeatures(degree=3)\n",
    "\n",
    "# fit and transform X_train_scaled\n",
    "X_train_degree3 = pf.fit_transform(X_train[['bedroom', 'bathroom', 'square_ft']])\n",
    "\n",
    "# transform X_validate_scaled & X_test_scaled\n",
    "X_validate_degree3 = pf.transform(X_validate[['bedroom', 'bathroom', 'square_ft']])\n",
    "X_test_degree3 = pf.transform(X_test[['bedroom', 'bathroom', 'square_ft']])\n"
   ]
  },
  {
   "cell_type": "code",
   "execution_count": null,
   "id": "cd89b71e-381a-4d86-abe3-565c4cbd95c1",
   "metadata": {},
   "outputs": [],
   "source": [
    "# create the model object\n",
    "lm2 = LinearRegression(normalize=True)\n",
    "\n",
    "# fit the model to our training data. We must specify the column in y_train, \n",
    "# since we have converted it to a dataframe from a series! \n",
    "lm2.fit(X_train_degree3, y_train.tax_value)\n",
    "\n",
    "# predict train\n",
    "y_train['tax_value_pred_lm2'] = lm2.predict(X_train_degree3)\n",
    "\n",
    "# evaluate: rmse\n",
    "pf_rmse_train = mean_squared_error(y_train.tax_value, y_train.tax_value_pred_lm2)**(1/2)\n",
    "\n",
    "# predict validate\n",
    "y_validate['tax_value_pred_lm2'] = lm2.predict(X_validate_degree3)\n",
    "\n",
    "# evaluate: rmse\n",
    "pf_rmse_validate = mean_squared_error(y_validate.tax_value, y_validate.tax_value_pred_lm2)**(1/2)\n",
    "\n",
    "print(\"RMSE for Polynomial Model, degrees=3\\n\\nTraining/In-Sample: \", pf_rmse_train, \n",
    "      \"\\nValidation/Out-of-Sample: \", pf_rmse_validate)\n"
   ]
  },
  {
   "cell_type": "markdown",
   "id": "6bd95818-c913-47f3-b79b-c06ddadf023a",
   "metadata": {},
   "source": [
    "## **Evaluate**\n",
    "#### **Plotting Actual vs. Predicted Values**"
   ]
  },
  {
   "cell_type": "code",
   "execution_count": null,
   "id": "5eb4fe14-027c-4cc9-ac37-ef031bcfd03b",
   "metadata": {},
   "outputs": [],
   "source": [
    "# y_validate.head()\n",
    "plt.figure(figsize=(16,8))\n",
    "plt.plot(y_validate.tax_value, y_validate.tax_value_pred_mean, alpha=.5, color=\"black\", label='Baseline: Predict Using Mean')\n",
    "plt.plot(y_validate.tax_value, y_validate.tax_value, alpha=.5, color=\"red\", label='The Ideal Line: Predicted = Actual')\n",
    "\n",
    "\n",
    "plt.scatter(y_validate.tax_value, y_validate.tax_value_pred_lm, \n",
    "            alpha=.5, marker = '^', color=\"red\", s=100, label=\"Model: LinearRegression\")\n",
    "plt.scatter(y_validate.tax_value, y_validate.tax_value_pred_glm, \n",
    "            alpha=.5, marker = '*', color=\"yellow\", s=100, label=\"Model: TweedieRegressor\")\n",
    "plt.scatter(y_validate.tax_value, y_validate.tax_value_pred_lm2, \n",
    "            alpha=.5, marker = '+', color=\"green\", s=100, label=\"Model 3rd degree Polynomial\")\n",
    "plt.legend()\n",
    "plt.xlabel(\"Actual Property Tax Value\")\n",
    "plt.ylabel(\"Predicted Property Tax Value\")\n",
    "plt.title(\"Where are predictions more extreme? More modest?\")\n",
    "plt.show()\n"
   ]
  },
  {
   "cell_type": "code",
   "execution_count": null,
   "id": "6aa2771a-3e81-4dec-bf53-e4a197849f71",
   "metadata": {},
   "outputs": [],
   "source": [
    "# y_validate.head()\n",
    "plt.figure(figsize=(16,8))\n",
    "plt.axhline(label=\"No Error\")\n",
    "plt.scatter(y_validate.tax_value, y_validate.tax_value_pred_lm-y_validate.tax_value, \n",
    "            alpha=.5, marker = '^', color=\"red\", s=100, label=\"Model: LinearRegression\")\n",
    "plt.scatter(y_validate.tax_value, y_validate.tax_value_pred_glm-y_validate.tax_value, \n",
    "            alpha=.5, marker = '*', color=\"yellow\", s=100, label=\"Model: TweedieRegressor\")\n",
    "plt.scatter(y_validate.tax_value, y_validate.tax_value_pred_lm2-y_validate.tax_value, \n",
    "            alpha=.5, marker = '+', color=\"green\", s=100, label=\"Model 3rd degree Polynomial\")\n",
    "plt.legend()\n",
    "plt.xlabel(\"Actual Tax Value\")\n",
    "plt.ylabel(\"Residual/Error: Predicted value - Actual value\")\n",
    "plt.title(\"Do the size of errors change as the actual value changes?\")\n",
    "plt.show()\n"
   ]
  },
  {
   "cell_type": "code",
   "execution_count": null,
   "id": "a57b70e0-c262-4625-8313-c06df6ba5f43",
   "metadata": {},
   "outputs": [],
   "source": [
    "# plot to visualize actual vs predicted. \n",
    "plt.figure(figsize=(16,8))\n",
    "plt.hist(y_validate.tax_value, color='blue', alpha=.5, label=\"Actual Predicted Value\")\n",
    "plt.hist(y_validate.tax_value_pred_lm, color='red', alpha=.5, label=\"Model: LinearRegression\")\n",
    "plt.hist(y_validate.tax_value_pred_glm, color='yellow', alpha=.5, label=\"Model: TweedieRegressor\")\n",
    "plt.hist(y_validate.tax_value_pred_lm2, color='green', alpha=.5, label=\"Model 3rd degree Polynomial\")\n",
    "plt.xlabel(\"Tax Value\")\n",
    "plt.ylabel(\"Number of Properties\")\n",
    "plt.title(\"Comparing the Distribution of Actual Tax Values to Distributions of Predicted Tax Values for the Top Models\")\n",
    "plt.legend()\n",
    "plt.show()\n"
   ]
  },
  {
   "cell_type": "code",
   "execution_count": null,
   "id": "fcd31ec7-6996-47e9-98fc-3dda502cb34a",
   "metadata": {},
   "outputs": [],
   "source": [
    "metric_df = pd.DataFrame(data = [{'Model': 'Baseline', 'Train Baseline': mean_rmse_train, 'Validate Baseline':mean_rmse_validate, \n",
    "                          }])"
   ]
  },
  {
   "cell_type": "code",
   "execution_count": null,
   "id": "3f9be7f2-484e-4e85-aa0f-cc059c13ec07",
   "metadata": {},
   "outputs": [],
   "source": [
    "metric_df = metric_df.append({'Model': 'Linear Regression', 'Train Baseline': lm_rmse_train , 'Validate Baseline':lm_rmse_validate, \n",
    "                          }, ignore_index = True)\n",
    "metric_df = metric_df.append({'Model': 'LassoLars', 'Train Baseline': ll_rmse_train , 'Validate Baseline':ll_rmse_validate, \n",
    "                          }, ignore_index = True)\n",
    "metric_df = metric_df.append({'Model': 'TweedieRegressor (GLM)', 'Train Baseline': glm_rmse_train , 'Validate Baseline':glm_rmse_validate, \n",
    "                          }, ignore_index = True)\n",
    "metric_df = metric_df.append({'Model': 'PolynomialFeatures', 'Train Baseline': pf_rmse_train , 'Validate Baseline':pf_rmse_validate, \n",
    "                          }, ignore_index = True)"
   ]
  },
  {
   "cell_type": "code",
   "execution_count": null,
   "id": "3d71bbac-15fa-4028-9de8-6c5329150e1e",
   "metadata": {},
   "outputs": [],
   "source": [
    "metric_df"
   ]
  },
  {
   "cell_type": "code",
   "execution_count": null,
   "id": "958348cf-bb25-4a86-b0e0-52f2c247a9ef",
   "metadata": {},
   "outputs": [],
   "source": [
    "y_test = pd.DataFrame(y_test)\n",
    "\n",
    "# Fit the data\n",
    "lm2.fit(X_test_degree3, y_test.tax_value)\n",
    "\n",
    "# predict on test\n",
    "y_test['tax_value_pred_lm2'] = lm2.predict(X_test_degree3)\n",
    "                                \n",
    "# evaluate: rmse\n",
    "pf_rmse_test = mean_squared_error(y_test.tax_value, y_test.tax_value_pred_lm2)**(1/2)\n",
    "\n",
    "print(\"RMSE for Test Model using 3rd Degree Polynomial\\n\\nTest Performance: \", pf_rmse_test)\n"
   ]
  },
  {
   "cell_type": "code",
   "execution_count": null,
   "id": "90885ea0-7e8b-4133-8936-e95dc0e04e4c",
   "metadata": {},
   "outputs": [],
   "source": [
    "y_test['lm2_resid'] = y_test.tax_value - y_test.tax_value_pred_lm2\n",
    "y_test"
   ]
  },
  {
   "cell_type": "code",
   "execution_count": null,
   "id": "426ebd12-a198-43e8-8b42-52a73a11aa85",
   "metadata": {},
   "outputs": [],
   "source": [
    "# visual of residuals \n",
    "\n",
    "def plot_residuals(actual, predicted):\n",
    "    #plt.figure(figsize = (10,8))\n",
    "    residuals = actual - predicted\n",
    "    plt.hlines(0, actual.min(), actual.max(), ls=':', color ='red')\n",
    "    sns.scatterplot(actual, residuals, marker = '+')\n",
    "    plt.ylabel('residual ($y - \\hat{y}$)')\n",
    "    plt.xlabel('actual value ($y$)')\n",
    "    plt.title('Actual vs Residual')\n",
    "    plt.show()\n"
   ]
  },
  {
   "cell_type": "code",
   "execution_count": null,
   "id": "0529ad6a-a54e-4cb9-aff5-0a8e0f6ca551",
   "metadata": {},
   "outputs": [],
   "source": [
    "# calling function\n",
    "\n",
    "plot_residuals(y_test.tax_value, y_test.tax_value_pred_lm2)"
   ]
  },
  {
   "cell_type": "code",
   "execution_count": null,
   "id": "fa6852c6-2d6b-484c-b156-2c2dde147d2d",
   "metadata": {},
   "outputs": [],
   "source": [
    "\n",
    "ax=sns.residplot(x = \"tax_value\",\n",
    "              y = \"tax_value_pred_lm2\",\n",
    "              data = y_test, color = 'green')\n",
    "ax.set( ylabel = \"residual\", xlabel = \"Tax Value\")"
   ]
  },
  {
   "cell_type": "code",
   "execution_count": null,
   "id": "a5f48b82-c98f-4b26-b369-ec71a599935b",
   "metadata": {},
   "outputs": [],
   "source": []
  },
  {
   "cell_type": "code",
   "execution_count": null,
   "id": "71c41cf5-e7a9-4e92-83d5-e599e6ad129c",
   "metadata": {},
   "outputs": [],
   "source": []
  }
 ],
 "metadata": {
  "kernelspec": {
   "display_name": "Python 3 (ipykernel)",
   "language": "python",
   "name": "python3"
  },
  "language_info": {
   "codemirror_mode": {
    "name": "ipython",
    "version": 3
   },
   "file_extension": ".py",
   "mimetype": "text/x-python",
   "name": "python",
   "nbconvert_exporter": "python",
   "pygments_lexer": "ipython3",
   "version": "3.9.7"
  }
 },
 "nbformat": 4,
 "nbformat_minor": 5
}
